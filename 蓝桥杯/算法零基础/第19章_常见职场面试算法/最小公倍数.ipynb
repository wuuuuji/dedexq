{
 "cells": [
  {
   "cell_type": "markdown",
   "metadata": {
    "collapsed": true,
    "pycharm": {
     "name": "#%% md\n"
    }
   },
   "source": [
    "最小公倍数技术两数相乘除以gcd\n"
   ]
  },
  {
   "cell_type": "code",
   "execution_count": 1,
   "outputs": [
    {
     "name": "stdout",
     "output_type": "stream",
     "text": [
      "最大公约数 :  4\n",
      "最小公倍数 :  24\n"
     ]
    }
   ],
   "source": [
    "# 穷举法\n",
    "def gcd(a ,b):\n",
    "    if a < b:\n",
    "        a, b = b, a\n",
    "    while b != 0:\n",
    "        tmp = a % b\n",
    "        a = b\n",
    "        b = tmp\n",
    "    return a\n",
    "\n",
    "def lcm(a, b):\n",
    "    return a*b // gcd(a, b)\n",
    "\n",
    "a, b = eval(input(\"请输入2个整数值 : \"))\n",
    "print(\"最大公约数 : \", gcd(a, b))\n",
    "print(\"最小公倍数 : \", lcm(a, b))\n"
   ],
   "metadata": {
    "collapsed": false,
    "pycharm": {
     "name": "#%%\n"
    }
   }
  },
  {
   "cell_type": "code",
   "execution_count": 2,
   "outputs": [
    {
     "name": "stdout",
     "output_type": "stream",
     "text": [
      "最大公约数 :  4\n",
      "最小公倍数 :  24\n"
     ]
    }
   ],
   "source": [
    "def gcd(num1,num2):\n",
    "    return gcd(num2,num1%num2) if num2 else num1\n",
    "\n",
    "def lcm(num1, num2):\n",
    "    return num1 * num2 // gcd(num1, num2)\n",
    "\n",
    "a, b = eval(input(\"请输入2个整数值 : \"))\n",
    "print(\"最大公约数 : \", gcd(a, b))\n",
    "print(\"最小公倍数 : \", lcm(a, b))\n"
   ],
   "metadata": {
    "collapsed": false,
    "pycharm": {
     "name": "#%%\n"
    }
   }
  }
 ],
 "metadata": {
  "kernelspec": {
   "display_name": "Python 3",
   "language": "python",
   "name": "python3"
  },
  "language_info": {
   "codemirror_mode": {
    "name": "ipython",
    "version": 2
   },
   "file_extension": ".py",
   "mimetype": "text/x-python",
   "name": "python",
   "nbconvert_exporter": "python",
   "pygments_lexer": "ipython2",
   "version": "2.7.6"
  }
 },
 "nbformat": 4,
 "nbformat_minor": 0
}