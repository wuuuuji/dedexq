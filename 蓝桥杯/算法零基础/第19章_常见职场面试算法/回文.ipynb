{
 "cells": [
  {
   "cell_type": "markdown",
   "source": [
    "回文数，个位与万位相同，十位与千位相同"
   ],
   "metadata": {
    "collapsed": false
   }
  },
  {
   "cell_type": "code",
   "execution_count": 1,
   "outputs": [
    {
     "name": "stdout",
     "output_type": "stream",
     "text": [
      "Yes!\n"
     ]
    }
   ],
   "source": [
    "a = 1221\n",
    "x = str(a)\n",
    "flag = True\n",
    "l = len(x) // 2\n",
    "\n",
    "for i in range(l):\n",
    "    if x[i] != x[-i-1]:\n",
    "        flag = False\n",
    "        break\n",
    "if flag:\n",
    "    print(\"Yes!\")\n",
    "else:\n",
    "    print(\"No！\")"
   ],
   "metadata": {
    "collapsed": false,
    "pycharm": {
     "name": "#%%\n"
    }
   }
  },
  {
   "cell_type": "code",
   "execution_count": 1,
   "outputs": [
    {
     "name": "stdout",
     "output_type": "stream",
     "text": [
      "x      是回文 :  True\n",
      "abccba 是回文 :  True\n",
      "radar  是回文 :  True\n",
      "python 是回文 :  False\n"
     ]
    }
   ],
   "source": [
    "from collections import deque\n",
    "\n",
    "def palindrome(word):\n",
    "    wd = deque(word)\n",
    "    while len(wd) > 1:\n",
    "        if wd.pop() != wd.popleft():\n",
    "            return False\n",
    "    return True\n",
    "\n",
    "print('x      是回文 : ', palindrome(\"x\"))\n",
    "print('abccba 是回文 : ', palindrome(\"abccba\"))\n",
    "print('radar  是回文 : ', palindrome(\"radar\"))\n",
    "print('python 是回文 : ', palindrome(\"python\"))"
   ],
   "metadata": {
    "collapsed": false,
    "pycharm": {
     "name": "#%%\n"
    }
   }
  }
 ],
 "metadata": {
  "kernelspec": {
   "name": "python3",
   "language": "python",
   "display_name": "Python 3"
  },
  "language_info": {
   "codemirror_mode": {
    "name": "ipython",
    "version": 2
   },
   "file_extension": ".py",
   "mimetype": "text/x-python",
   "name": "python",
   "nbconvert_exporter": "python",
   "pygments_lexer": "ipython2",
   "version": "2.7.6"
  }
 },
 "nbformat": 4,
 "nbformat_minor": 0
}