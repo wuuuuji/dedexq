{
 "cells": [
  {
   "cell_type": "code",
   "execution_count": 1,
   "metadata": {
    "collapsed": true
   },
   "outputs": [
    {
     "name": "stdout",
     "output_type": "stream",
     "text": [
      "最大产值 : 47千克\n"
     ]
    }
   ],
   "source": [
    "def knapsack(go, w, val):\n",
    "    n = len(val)\n",
    "    table = [[0 for x in range(go+1)] for x in range(n+1)]\n",
    "    for r in range(n+1):\n",
    "        for c in range(go+1):\n",
    "            if r == 0 or c == 0:\n",
    "                table[r][c]=0\n",
    "            elif w[r-1] <= c:\n",
    "                table[r][c] = max(table[r-1][c-w[r-1]]+val[r-1], table[r-1][c])\n",
    "            else:\n",
    "                table[r][c] = table[r-1][c]\n",
    "    return table[n][go]\n",
    "\n",
    "\n",
    "value = [10, 16, 20, 22, 25]\n",
    "weight = [3, 4, 3, 5, 5]\n",
    "gold_weight = 10\n",
    "tatol = knapsack(gold_weight, weight, value)\n",
    "print(\"最大产值 : {}千克\".format(tatol))\n"
   ]
  }
 ],
 "metadata": {
  "kernelspec": {
   "display_name": "Python 3",
   "language": "python",
   "name": "python3"
  },
  "language_info": {
   "codemirror_mode": {
    "name": "ipython",
    "version": 2
   },
   "file_extension": ".py",
   "mimetype": "text/x-python",
   "name": "python",
   "nbconvert_exporter": "python",
   "pygments_lexer": "ipython2",
   "version": "2.7.6"
  }
 },
 "nbformat": 4,
 "nbformat_minor": 0
}