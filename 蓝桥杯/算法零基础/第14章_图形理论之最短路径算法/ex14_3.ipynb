{
 "cells": [
  {
   "cell_type": "code",
   "execution_count": 2,
   "metadata": {
    "collapsed": true
   },
   "outputs": [],
   "source": [
    "def get_edges(graph):\n",
    "    n1 = []\n",
    "    n2 = []\n",
    "    weight = []\n",
    "    for i in graph:\n",
    "        for j in graph[i]:\n",
    "            if graph[i][j] != 0:\n",
    "                weight.append(graph[i][j])\n",
    "                n1.append(i)\n",
    "                n2.append(j)\n",
    "    return n1, n2, weight"
   ]
  },
  {
   "cell_type": "markdown",
   "source": [
    "n1 = ['A','B', 'C', 'D', 'E', 'G', 'H']<br>\n",
    "n2 = ['B', 'C', 'C', 'D', 'E', 'H']<br>\n",
    "weight = [-1, 4, 3, 2, 2, 4, 1, 5, 4, -3, 2, -1, 3]"
   ],
   "metadata": {
    "collapsed": false
   }
  },
  {
   "cell_type": "code",
   "source": [
    "def bellman_ford(gtsph, start):\n",
    "    n1, n2, weight = get_edges(graph)\n",
    "    nodes = dict((i, INF) for i in graph)\n",
    "    nodes[start] = 0\n",
    "    for times in range(len(graph)- 1): # 7次\n",
    "        cycle = 0\n",
    "        for i in range(len(weight)): # 13次\n",
    "            new_cost = nodes[n1[i]] + weight[i]\n",
    "            if new_cost < nodes[n2[i]]:\n",
    "                nodes[n2[i]] = new_cost\n",
    "                cycle = 1\n",
    "        if cycle == 0:\n",
    "            break\n",
    "    flag = 0\n",
    "\n",
    "    for i in range(len(nodes)):\n",
    "        if nodes[n1[i]] + weight[i] < nodes[n2[i]]:\n",
    "            flag = 1\n",
    "            break\n",
    "    if flag:\n",
    "        return '图形含负权重的循环'\n",
    "    return nodes\n",
    "\n",
    "\n"
   ],
   "metadata": {
    "collapsed": false,
    "pycharm": {
     "name": "#%%\n"
    }
   },
   "execution_count": null,
   "outputs": []
  },
  {
   "cell_type": "markdown",
   "source": [
    "node = {'A':999, 'B':999, 'C':999<br>'D':999, 'E':999, 'G':999, 'H':999}\n"
   ],
   "metadata": {
    "collapsed": false
   }
  },
  {
   "cell_type": "code",
   "execution_count": null,
   "outputs": [],
   "source": [
    "INF = 999\n",
    "graph = {'A': {'A': 0, 'B': -1, 'C': '4'},\n",
    "         'B': {'B': 0, 'C': 3, 'D': 2, 'E': 2, 'H': 4},\n",
    "         'C': {'C': 0},\n",
    "         'D': {'D': 0, 'B': 1, 'C': 5, 'G': 4},\n",
    "         'E': {'E': 0, 'D': -3, 'G': 2},\n",
    "         'G': {'G': 0, 'H': -1},\n",
    "         'H': {'H': 0, 'G': 3}}\n",
    "rtn = bellman_ford(graph, 'A')\n",
    "print(rtn)"
   ],
   "metadata": {
    "collapsed": false,
    "pycharm": {
     "name": "#%%\n"
    }
   }
  },
  {
   "cell_type": "markdown",
   "source": [],
   "metadata": {
    "collapsed": false
   }
  }
 ],
 "metadata": {
  "kernelspec": {
   "name": "pycharm-ab5da64b",
   "language": "python",
   "display_name": "PyCharm (蓝桥杯)"
  },
  "language_info": {
   "codemirror_mode": {
    "name": "ipython",
    "version": 2
   },
   "file_extension": ".py",
   "mimetype": "text/x-python",
   "name": "python",
   "nbconvert_exporter": "python",
   "pygments_lexer": "ipython2",
   "version": "2.7.6"
  }
 },
 "nbformat": 4,
 "nbformat_minor": 0
}