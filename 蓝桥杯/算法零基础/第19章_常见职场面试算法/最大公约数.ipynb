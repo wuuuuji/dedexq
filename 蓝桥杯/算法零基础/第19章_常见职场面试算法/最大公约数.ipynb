{
 "cells": [
  {
   "cell_type": "markdown",
   "source": [
    "有2个数字分别是n1和n2，所谓的公约数是可以被n1和n2整除的数字，\n",
    "1是它们的公约数，但不是最大公约数。"
   ],
   "metadata": {
    "collapsed": false
   }
  },
  {
   "cell_type": "code",
   "execution_count": 1,
   "metadata": {
    "collapsed": true,
    "pycharm": {
     "name": "#%%\n"
    }
   },
   "outputs": [
    {
     "name": "stdout",
     "output_type": "stream",
     "text": [
      "最大公约数是 :  8\n"
     ]
    }
   ],
   "source": [
    "# 穷举法\n",
    "def gcd(n1, n2):\n",
    "    g = 1                               # 最初化最大公约数\n",
    "    n = 2                               # 从2开始检测\n",
    "    while n <= n1 and n <= n2:\n",
    "        if n1 % n == 0 and n2 % n == 0:\n",
    "            g = n                       # 新最大公约数\n",
    "        n += 1\n",
    "    return g\n",
    "\n",
    "n1, n2 = eval(input(\"请输入2个整数值 : \")) # input(16, 40)\n",
    "print(\"最大公约数是 : \", gcd(n1,n2))"
   ]
  },
  {
   "cell_type": "code",
   "execution_count": 2,
   "outputs": [
    {
     "name": "stdout",
     "output_type": "stream",
     "text": [
      "8\n"
     ]
    }
   ],
   "source": [
    "def gcd(num1,num2):\n",
    "    for i in range(1,num1+1):\n",
    "        if num1 % i == 0 and num2 % i == 0:\n",
    "            t = i\n",
    "    return t\n",
    "print(gcd(16,40))"
   ],
   "metadata": {
    "collapsed": false,
    "pycharm": {
     "name": "#%%\n"
    }
   }
  },
  {
   "cell_type": "code",
   "execution_count": 3,
   "outputs": [
    {
     "name": "stdout",
     "output_type": "stream",
     "text": [
      "8\n"
     ]
    }
   ],
   "source": [
    "# 穷举优化版\n",
    "def gcd(num1,num2):\n",
    "    for i in range(num1,0,-1):\n",
    "        if num1 % i == 0 and num2 % i == 0:\n",
    "            break\n",
    "    return i\n",
    "print(gcd(16,40))"
   ],
   "metadata": {
    "collapsed": false,
    "pycharm": {
     "name": "#%%\n"
    }
   }
  },
  {
   "cell_type": "code",
   "execution_count": 4,
   "outputs": [
    {
     "name": "stdout",
     "output_type": "stream",
     "text": [
      "8\n"
     ]
    }
   ],
   "source": [
    "# 更相减损法\n",
    "def gcd(num1,num2):\n",
    "    while num1 != num2:\n",
    "        if num1 > num2:\n",
    "            num1 -= num2\n",
    "        else:\n",
    "            num2 -= num1\n",
    "    return num1\n",
    "print(gcd(16,40))\n"
   ],
   "metadata": {
    "collapsed": false,
    "pycharm": {
     "name": "#%%\n"
    }
   }
  },
  {
   "cell_type": "code",
   "execution_count": 5,
   "outputs": [
    {
     "name": "stdout",
     "output_type": "stream",
     "text": [
      "8\n"
     ]
    }
   ],
   "source": [
    "# 更相减损递归版\n",
    "def gcd(num1, num2):\n",
    "    if num1 == num2:\n",
    "        return num1\n",
    "    elif num1 > num2:\n",
    "        return gcd(num1-num2, num2)\n",
    "    else:\n",
    "        return gcd(num1,num2-num1)\n",
    "\n",
    "print(gcd(16, 40))"
   ],
   "metadata": {
    "collapsed": false,
    "pycharm": {
     "name": "#%%\n"
    }
   }
  },
  {
   "cell_type": "code",
   "execution_count": 6,
   "outputs": [
    {
     "name": "stdout",
     "output_type": "stream",
     "text": [
      "4\n"
     ]
    }
   ],
   "source": [
    "# 更相减损递归版优化版\n",
    "def gcd(num1, num2):\n",
    "    if num1 == num2:\n",
    "        return num1\n",
    "    return gcd(num1-num2, num2) if num1 > num2 else gcd(num1,num2-num1)\n",
    "print(gcd(12,8))"
   ],
   "metadata": {
    "collapsed": false,
    "pycharm": {
     "name": "#%%\n"
    }
   }
  },
  {
   "cell_type": "code",
   "execution_count": 8,
   "outputs": [
    {
     "name": "stdout",
     "output_type": "stream",
     "text": [
      "6\n"
     ]
    }
   ],
   "source": [
    "# 辗转相除法\n",
    "def gcd(num1,num2):\n",
    "    while(num2):\n",
    "        num1,num2 = num2,num1 % num2\n",
    "    return num1\n",
    "print(gcd(12,18))"
   ],
   "metadata": {
    "collapsed": false,
    "pycharm": {
     "name": "#%%\n"
    }
   }
  },
  {
   "cell_type": "code",
   "execution_count": 7,
   "outputs": [
    {
     "name": "stdout",
     "output_type": "stream",
     "text": [
      "6\n"
     ]
    }
   ],
   "source": [
    "# 辗转相除递归版\n",
    "def gcd(num1,num2):\n",
    "    return gcd(num2,num1%num2) if num2 else num1\n",
    "print(gcd(12,18))\n"
   ],
   "metadata": {
    "collapsed": false,
    "pycharm": {
     "name": "#%%\n"
    }
   }
  }
 ],
 "metadata": {
  "kernelspec": {
   "display_name": "Python 3",
   "language": "python",
   "name": "python3"
  },
  "language_info": {
   "codemirror_mode": {
    "name": "ipython",
    "version": 2
   },
   "file_extension": ".py",
   "mimetype": "text/x-python",
   "name": "python",
   "nbconvert_exporter": "python",
   "pygments_lexer": "ipython2",
   "version": "2.7.6"
  }
 },
 "nbformat": 4,
 "nbformat_minor": 0
}